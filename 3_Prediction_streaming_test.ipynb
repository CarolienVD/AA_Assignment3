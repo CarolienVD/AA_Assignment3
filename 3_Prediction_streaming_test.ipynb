{
 "cells": [
  {
   "cell_type": "code",
   "execution_count": null,
   "id": "0",
   "metadata": {},
   "outputs": [],
   "source": [
    "import os\n",
    "spark_home = os.path.abspath(os.getcwd() + \"/../Assignment_3/spark/spark-3.5.5-bin-hadoop3\")\n",
    "hadoop_home = os.path.abspath(os.getcwd() + \"/../Assignment_3/spark/winutils\")\n",
    "print(f\"I am using the following SPARK_HOME: {spark_home}\")\n",
    "if os.name == 'nt':\n",
    "    os.environ[\"HADOOP_HOME\"] = f\"{hadoop_home}\"\n",
    "    print(f\"Windows detected: set HADOOP_HOME to: {os.environ['HADOOP_HOME']}\")\n",
    "    hadoop_bin = os.path.join(hadoop_home, \"bin\")\n",
    "    os.environ[\"PATH\"] = f\"{hadoop_bin};{os.environ['PATH']}\"\n",
    "    print(f\"  Also added Hadoop bin directory to PATH: {hadoop_bin}\")\n",
    "\n",
    "import findspark\n",
    "import pyspark\n",
    "from pyspark.streaming import StreamingContext\n",
    "\n",
    "findspark.init(spark_home)\n",
    "sc = pyspark.SparkContext()\n",
    "spark = pyspark.sql.SparkSession.builder.getOrCreate()"
   ]
  },
  {
   "cell_type": "code",
   "execution_count": null,
   "id": "1",
   "metadata": {},
   "outputs": [],
   "source": [
    "import threading\n",
    "\n",
    "# Helper thread to avoid the Spark StreamingContext from blocking Jupyter\n",
    "        \n",
    "class StreamingThread(threading.Thread):\n",
    "    def __init__(self, ssc):\n",
    "        super().__init__()\n",
    "        self.ssc = ssc\n",
    "    def run(self):\n",
    "        self.ssc.start()\n",
    "        self.ssc.awaitTermination()\n",
    "    def stop(self):\n",
    "        print('----- Stopping... this may take a few seconds -----')\n",
    "        self.ssc.stop(stopSparkContext=False, stopGraceFully=True)"
   ]
  },
  {
   "cell_type": "code",
   "execution_count": null,
   "id": "2",
   "metadata": {},
   "outputs": [],
   "source": [
    "import random\n",
    "import pandas as pd\n",
    "from pyspark.streaming import StreamingContext\n",
    "from pyspark.sql import Row\n",
    "from pyspark.sql.functions import udf, struct, array, col, lit, collect_set\n",
    "from pyspark.sql.types import StringType"
   ]
  },
  {
   "cell_type": "code",
   "execution_count": null,
   "id": "3",
   "metadata": {},
   "outputs": [],
   "source": [
    "import torch \n",
    "from transformers import pipeline"
   ]
  },
  {
   "cell_type": "code",
   "execution_count": null,
   "id": "4",
   "metadata": {},
   "outputs": [],
   "source": [
    "from pyspark.sql.types import StructType, StructField, StringType, FloatType"
   ]
  },
  {
   "cell_type": "code",
   "execution_count": null,
   "id": "5",
   "metadata": {},
   "outputs": [],
   "source": [
    "df_categories = spark.read.parquet(\"data/arxiv_categories.parquet.gzip\")\n",
    "row = df_categories.agg(collect_set(\"group\").alias(\"groups\")).collect()[0]\n",
    "\n",
    "categories = row['groups']\n",
    "\n",
    "print(categories)"
   ]
  },
  {
   "cell_type": "code",
   "execution_count": null,
   "id": "6",
   "metadata": {},
   "outputs": [],
   "source": [
    "\n",
    "candidate_labels = categories\n",
    "\n",
    "# schema = StructType([\n",
    "#     StructField(\"summary\", StringType(), True),\n",
    "#     StructField(\"predicted_label\", StringType(), True),\n",
    "#     StructField(\"confidence_score\", FloatType(), True)\n",
    "# ])\n",
    "\n",
    "def classify_partition(time, rdd):\n",
    "    # Only load the model once per Python worker\n",
    "    if not globals().get(\"models_loaded\", False):\n",
    "        globals()[\"classifier\"] = pipeline(\"zero-shot-classification\", model=\"valhalla/distilbart-mnli-12-3\", device=-1)\n",
    "        globals()[\"models_loaded\"] = True\n",
    "\n",
    "    classifier = globals()[\"classifier\"]\n",
    "\n",
    "    # classify_udf = udf(classifier, schema)\n",
    "\n",
    "    if rdd.isEmpty():\n",
    "        return\n",
    "    \n",
    "    print(\"========= %s =========\" % str(time))\n",
    "    \n",
    "    # Convert to data frame\n",
    "    df = spark.read.json(rdd)\n",
    "    # df_sel = df.select('summary')\n",
    "    # df_sel.show()\n",
    "\n",
    "    dfp = df.toPandas()\n",
    "\n",
    "    results = []\n",
    "\n",
    "    for idx, row in dfp.iterrows():\n",
    "        text = row[\"summary\"]\n",
    "        res = classifier(text, candidate_labels)\n",
    "        label = res[\"labels\"][0]\n",
    "        score = float(res[\"scores\"][0])\n",
    "\n",
    "        row_data = row.to_dict()\n",
    "        row_data[\"predicted_label\"] = label\n",
    "        row_data[\"confidence_score\"] = score\n",
    "        results.append(row_data)\n",
    "\n",
    "    df_result = pd.DataFrame(results)\n",
    "    display(df_result)\n",
    "\n",
    "    \n",
    "    # for text in dfp[\"summary\"]:\n",
    "    #     res = classifier(text, candidate_labels)\n",
    "    #     label = res[\"labels\"][0]\n",
    "    #     score = float(res[\"scores\"][0])\n",
    "    #     results.append((text, label, score))\n",
    "\n",
    "    # df_result = pd.DataFrame(results, columns=[\"summary\", \"predicted_label\", \"confidence_score\"])\n",
    "    # display(df_result)"
   ]
  },
  {
   "cell_type": "code",
   "execution_count": null,
   "id": "7",
   "metadata": {},
   "outputs": [],
   "source": [
    "ssc = StreamingContext(sc, 10)"
   ]
  },
  {
   "cell_type": "code",
   "execution_count": null,
   "id": "8",
   "metadata": {},
   "outputs": [],
   "source": [
    "lines = ssc.socketTextStream(\"seppe.net\", 7778)\n",
    "lines.foreachRDD(classify_partition)"
   ]
  },
  {
   "cell_type": "code",
   "execution_count": null,
   "id": "9",
   "metadata": {},
   "outputs": [],
   "source": [
    "ssc_t = StreamingThread(ssc)\n",
    "ssc_t.start()"
   ]
  },
  {
   "cell_type": "code",
   "execution_count": null,
   "id": "10",
   "metadata": {},
   "outputs": [],
   "source": [
    "ssc_t = StreamingThread(ssc)\n",
    "ssc_t.start()"
   ]
  },
  {
   "cell_type": "code",
   "execution_count": null,
   "id": "11",
   "metadata": {},
   "outputs": [],
   "source": [
    "ssc_t.stop()"
   ]
  },
  {
   "cell_type": "code",
   "execution_count": null,
   "id": "12",
   "metadata": {},
   "outputs": [],
   "source": []
  }
 ],
 "metadata": {
  "kernelspec": {
   "display_name": "Python 3 (ipykernel)",
   "language": "python",
   "name": "python3"
  },
  "language_info": {
   "codemirror_mode": {
    "name": "ipython",
    "version": 3
   },
   "file_extension": ".py",
   "mimetype": "text/x-python",
   "name": "python",
   "nbconvert_exporter": "python",
   "pygments_lexer": "ipython3",
   "version": "3.11.9"
  }
 },
 "nbformat": 4,
 "nbformat_minor": 5
}
