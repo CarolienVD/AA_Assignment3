{
 "cells": [
  {
   "cell_type": "markdown",
   "id": "0",
   "metadata": {},
   "source": [
    "# 01. Put historical data in df\n",
    "\n",
    "Data were saved as json files, now put them in a single df\n",
    "\n",
    "- Ignore folders only containing a \"_SUCCESS\" file but no data\n",
    "- Remove duplicate rows in df that arise because of getting the same data from arXiv multiple times"
   ]
  },
  {
   "cell_type": "code",
   "execution_count": null,
   "id": "1",
   "metadata": {},
   "outputs": [],
   "source": [
    "import os\n",
    "from pyspark.sql import SparkSession\n",
    "from pyspark.sql.types import StringType\n",
    "from pyspark.sql.functions import col, from_json, schema_of_json, regexp_replace, udf\n",
    "from pylatexenc.latex2text import LatexNodes2Text"
   ]
  },
  {
   "cell_type": "code",
   "execution_count": null,
   "id": "2",
   "metadata": {},
   "outputs": [],
   "source": [
    "spark = SparkSession.builder.getOrCreate()"
   ]
  },
  {
   "cell_type": "code",
   "execution_count": null,
   "id": "3",
   "metadata": {},
   "outputs": [],
   "source": [
    "# count = sum(\n",
    "#     1 for name in os.listdir(\"spark/notebooks\")\n",
    "#     if name.startswith(\"saved_data-\") and os.path.isdir(os.path.join(\"spark/notebooks\", name))\n",
    "# )\n",
    "\n",
    "# print(f\"Number of folders starting with 'saved_data': {count}\")"
   ]
  },
  {
   "cell_type": "code",
   "execution_count": null,
   "id": "4",
   "metadata": {},
   "outputs": [],
   "source": [
    "def has_json_file(folder_path):\n",
    "    try:\n",
    "        files = [f for f in os.listdir(folder_path) if \"SUCCESS\" not in f]\n",
    "\n",
    "        if not files:\n",
    "            return False\n",
    "\n",
    "        else:\n",
    "            return True\n",
    "\n",
    "    except Exception:\n",
    "        return False"
   ]
  },
  {
   "cell_type": "code",
   "execution_count": null,
   "id": "5",
   "metadata": {},
   "outputs": [],
   "source": [
    "has_json_file(\"spark/notebooks/saved_data-1743417480000\")"
   ]
  },
  {
   "cell_type": "code",
   "execution_count": null,
   "id": "6",
   "metadata": {},
   "outputs": [],
   "source": [
    "has_json_file(\"spark/notebooks/saved_data-1743416280000\")"
   ]
  },
  {
   "cell_type": "code",
   "execution_count": null,
   "id": "7",
   "metadata": {},
   "outputs": [],
   "source": [
    "data_folders = []\n",
    "\n",
    "for folder in os.listdir(\"spark/notebooks\"):\n",
    "    folder_path = os.path.join(\"spark/notebooks\", folder)\n",
    "    if folder.startswith(\"saved_data\") and os.path.isdir(folder_path):\n",
    "        if has_json_file(folder_path):\n",
    "            data_folders.append(folder_path)"
   ]
  },
  {
   "cell_type": "code",
   "execution_count": null,
   "id": "8",
   "metadata": {},
   "outputs": [],
   "source": [
    "print(data_folders[0])"
   ]
  },
  {
   "cell_type": "code",
   "execution_count": null,
   "id": "9",
   "metadata": {},
   "outputs": [],
   "source": [
    "len(data_folders)"
   ]
  },
  {
   "cell_type": "code",
   "execution_count": null,
   "id": "10",
   "metadata": {},
   "outputs": [],
   "source": [
    "first_file = spark.read.text(data_folders[0]).limit(1).collect()[0][0]\n",
    "first_file"
   ]
  },
  {
   "cell_type": "code",
   "execution_count": null,
   "id": "11",
   "metadata": {},
   "outputs": [],
   "source": [
    "schema = schema_of_json(first_file)"
   ]
  },
  {
   "cell_type": "code",
   "execution_count": null,
   "id": "12",
   "metadata": {},
   "outputs": [],
   "source": [
    "df_raw = spark.read.text(data_folders)\n",
    "df_parsed = df_raw.withColumn(\"data\", from_json(col(\"value\"), schema)).select(\"data.*\")\n",
    "df_parsed_deduped = df_parsed.drop_duplicates([\"title\"])\n",
    "\n",
    "df_parsed_deduped.show()"
   ]
  },
  {
   "cell_type": "code",
   "execution_count": null,
   "id": "13",
   "metadata": {},
   "outputs": [],
   "source": [
    "df_parsed_deduped.count()"
   ]
  },
  {
   "cell_type": "code",
   "execution_count": null,
   "id": "14",
   "metadata": {},
   "outputs": [],
   "source": [
    "df_parsed_deduped.write.mode(\"overwrite\").parquet(\"data/df_all_deduped\")"
   ]
  },
  {
   "cell_type": "code",
   "execution_count": null,
   "id": "15",
   "metadata": {},
   "outputs": [],
   "source": [
    "df_parsed_deduped = spark.read.parquet(\"data/df_all_deduped\")"
   ]
  },
  {
   "cell_type": "code",
   "execution_count": null,
   "id": "16",
   "metadata": {},
   "outputs": [],
   "source": [
    "df_parsed_deduped.show()"
   ]
  },
  {
   "cell_type": "code",
   "execution_count": null,
   "id": "17",
   "metadata": {},
   "outputs": [],
   "source": [
    "df_parsed_deduped.filter(col(\"published\") == \"2025-03-27T09:58:07Z\").select(col(\"summary\")).collect()"
   ]
  },
  {
   "cell_type": "code",
   "execution_count": null,
   "id": "18",
   "metadata": {},
   "outputs": [],
   "source": [
    "def latex_to_text(s):\n",
    "    return LatexNodes2Text().latex_to_text(s)"
   ]
  },
  {
   "cell_type": "code",
   "execution_count": null,
   "id": "19",
   "metadata": {},
   "outputs": [],
   "source": [
    "def latex_to_text(s):\n",
    "    if s is None:\n",
    "        return None\n",
    "    try:\n",
    "        converted = LatexNodes2Text().latex_to_text(s)\n",
    "        return converted.replace(\"\\n\", \" \").replace(\"\\r\", \" \").replace(\"^\", \"\")\n",
    "    except Exception:\n",
    "        return None"
   ]
  },
  {
   "cell_type": "code",
   "execution_count": null,
   "id": "20",
   "metadata": {},
   "outputs": [],
   "source": [
    "latex_udf = udf(latex_to_text, StringType())\n",
    "\n",
    "df_cleaned = df_parsed_deduped.withColumn(\"title\", latex_udf(col(\"title\"))).withColumn(\"summary\", latex_udf(col(\"summary\")))\n",
    "df_cleaned.show()"
   ]
  },
  {
   "cell_type": "code",
   "execution_count": null,
   "id": "21",
   "metadata": {},
   "outputs": [],
   "source": [
    "df_cleaned.filter(col(\"published\") == \"2025-03-27T09:58:07Z\").select(col(\"summary\")).collect()"
   ]
  },
  {
   "cell_type": "code",
   "execution_count": null,
   "id": "22",
   "metadata": {},
   "outputs": [],
   "source": [
    "df_cleaned.write.mode(\"overwrite\").parquet(\"data/df_all_cleaned\")"
   ]
  },
  {
   "cell_type": "markdown",
   "id": "23",
   "metadata": {},
   "source": [
    "# 02 Scrape arXiv categories"
   ]
  },
  {
   "cell_type": "code",
   "execution_count": null,
   "id": "24",
   "metadata": {},
   "outputs": [],
   "source": [
    "import pandas as pd\n",
    "import requests\n",
    "from bs4 import BeautifulSoup"
   ]
  },
  {
   "cell_type": "code",
   "execution_count": null,
   "id": "25",
   "metadata": {},
   "outputs": [],
   "source": [
    "url = 'https://arxiv.org/category_taxonomy'\n",
    "response = requests.get(url)\n",
    "soup = BeautifulSoup(response.text, 'html.parser')"
   ]
  },
  {
   "cell_type": "code",
   "execution_count": null,
   "id": "26",
   "metadata": {},
   "outputs": [],
   "source": [
    "# soup"
   ]
  },
  {
   "cell_type": "code",
   "execution_count": null,
   "id": "27",
   "metadata": {},
   "outputs": [],
   "source": [
    "# soup.find_all(['h2', 'h3', 'h4'])"
   ]
  },
  {
   "cell_type": "code",
   "execution_count": null,
   "id": "28",
   "metadata": {},
   "outputs": [],
   "source": [
    "categories = []\n",
    "\n",
    "for header in soup.find_all(['h2', 'h3', 'h4']):\n",
    "    if header.name == 'h2':\n",
    "        group_name = header.get_text(strip=True)\n",
    "    elif header.name == 'h3':\n",
    "        archive_name = header.get_text(strip=True)\n",
    "    elif header.name == 'h4':\n",
    "        category_info = header.get_text(strip=True)\n",
    "        # Extract category ID and name\n",
    "        if '(' in category_info and ')' in category_info:\n",
    "            category_id = category_info.split('(')[-1].strip(')')\n",
    "            category_name = category_info.split('(')[0].strip()\n",
    "        else:\n",
    "            category_id = ''\n",
    "            category_name = category_info\n",
    "        categories.append({\n",
    "            'group': group_name,\n",
    "            'archive': archive_name,\n",
    "            'category_id': category_id,\n",
    "            'category_name': category_name\n",
    "        })"
   ]
  },
  {
   "cell_type": "code",
   "execution_count": null,
   "id": "29",
   "metadata": {},
   "outputs": [],
   "source": []
  },
  {
   "cell_type": "code",
   "execution_count": null,
   "id": "30",
   "metadata": {},
   "outputs": [],
   "source": [
    "df = pd.DataFrame(categories)\n",
    "df = df[df.group != \"Group Name\"]\n",
    "\n",
    "df.head(20)"
   ]
  },
  {
   "cell_type": "code",
   "execution_count": null,
   "id": "31",
   "metadata": {},
   "outputs": [],
   "source": []
  },
  {
   "cell_type": "code",
   "execution_count": null,
   "id": "32",
   "metadata": {},
   "outputs": [],
   "source": [
    "df[df.category_name.str.contains('hep')]"
   ]
  },
  {
   "cell_type": "code",
   "execution_count": null,
   "id": "33",
   "metadata": {},
   "outputs": [],
   "source": [
    "df.group.unique()"
   ]
  },
  {
   "cell_type": "code",
   "execution_count": null,
   "id": "34",
   "metadata": {},
   "outputs": [],
   "source": [
    "df.to_parquet(\"data/arxiv_categories.parquet.gzip\")"
   ]
  },
  {
   "cell_type": "markdown",
   "id": "35",
   "metadata": {},
   "source": [
    "# 03 Create training and test set"
   ]
  },
  {
   "cell_type": "code",
   "execution_count": null,
   "id": "36",
   "metadata": {},
   "outputs": [],
   "source": []
  },
  {
   "cell_type": "code",
   "execution_count": null,
   "id": "37",
   "metadata": {},
   "outputs": [],
   "source": [
    "from pyspark.sql.functions import col, split, when, collect_set, concat, concat_ws, lit, regexp_replace, rand"
   ]
  },
  {
   "cell_type": "code",
   "execution_count": null,
   "id": "38",
   "metadata": {},
   "outputs": [],
   "source": [
    "df_pub = spark.read.parquet(\"data/df_all_cleaned\")\n",
    "df_pub = df_pub.withColumn(\"level1_category\", split(df_pub[\"main_category\"], \"\\.\")[0]) \\\n",
    "    .withColumn(\"level2_category\", split(df_pub[\"main_category\"], \"\\.\")[1])\n",
    "df_pub.show()"
   ]
  },
  {
   "cell_type": "code",
   "execution_count": null,
   "id": "39",
   "metadata": {},
   "outputs": [],
   "source": [
    "df_categories = spark.read.parquet(\"data/arxiv_categories.parquet.gzip\")\n",
    "df_categories = df_categories.withColumn(\"level1_category\", split(df_categories[\"category_name\"], \"\\.\")[0]) \\\n",
    "    .withColumn(\"level2_category\", split(df_categories[\"category_name\"], \"\\.\")[1])\n",
    "df_categories.show()"
   ]
  },
  {
   "cell_type": "code",
   "execution_count": null,
   "id": "40",
   "metadata": {},
   "outputs": [],
   "source": [
    "df_level1_categories = df_categories.select(col('group'), col('level1_category'), col('archive')).drop_duplicates().sort(col('group'))\n",
    "df_level1_categories = df_level1_categories.withColumn(\"subgroup\",\n",
    "    when(col(\"level1_category\").isin(\"cs\", \"econ\", \"eess\", \"math\", \"q-bio\", \"q-fin\", \"stat\"), col(\"group\")).otherwise(concat(col(\"group\"), lit(\": \"), col(\"archive\")))\n",
    "    ).drop('archive')\n",
    "df_level1_categories = df_level1_categories.withColumn(\"subgroup\", regexp_replace(col(\"subgroup\"), r\"\\(.*?\\)\", \"\")\n",
    ")\n",
    "\n",
    "df_level1_categories.show()"
   ]
  },
  {
   "cell_type": "code",
   "execution_count": null,
   "id": "41",
   "metadata": {},
   "outputs": [],
   "source": [
    "row = df_level1_categories.agg(collect_set(\"subgroup\").alias(\"subgroups\")).collect()[0]\n",
    "\n",
    "print(row['subgroups'])"
   ]
  },
  {
   "cell_type": "code",
   "execution_count": null,
   "id": "42",
   "metadata": {},
   "outputs": [],
   "source": [
    "df_labeled = df_pub.join(df_level1_categories, on = \"level1_category\", how = \"left\")\n",
    "df_labeled.show()"
   ]
  },
  {
   "cell_type": "code",
   "execution_count": null,
   "id": "43",
   "metadata": {},
   "outputs": [],
   "source": [
    "# concatenate title and summary; keep only that column and the label\n",
    "df_relevant = df_labeled.withColumn(\"text\", concat_ws(\". \", col(\"title\"), col(\"summary\"))).select(col('text'), col('group'))\n",
    "df_relevant.show()"
   ]
  },
  {
   "cell_type": "code",
   "execution_count": null,
   "id": "44",
   "metadata": {},
   "outputs": [],
   "source": []
  },
  {
   "cell_type": "code",
   "execution_count": null,
   "id": "45",
   "metadata": {},
   "outputs": [],
   "source": [
    "# shuffle the data\n",
    "df_shuffled = df_relevant.orderBy(rand())"
   ]
  },
  {
   "cell_type": "code",
   "execution_count": null,
   "id": "46",
   "metadata": {},
   "outputs": [],
   "source": [
    "# split into train/test (e.g., 80% train, 20% test)\n",
    "train_df, test_df = df_shuffled.randomSplit([0.8, 0.2], seed=16)"
   ]
  },
  {
   "cell_type": "code",
   "execution_count": null,
   "id": "47",
   "metadata": {},
   "outputs": [],
   "source": [
    "# train_df.coalesce(1).write.mode(\"overwrite\").option(\"header\", True).csv(\"data/df_train.csv\")\n",
    "# test_df.coalesce(1).write.mode(\"overwrite\").option(\"header\", True).csv(\"data/df_test.csv\")"
   ]
  },
  {
   "cell_type": "code",
   "execution_count": null,
   "id": "48",
   "metadata": {},
   "outputs": [],
   "source": [
    "train_df.write.mode(\"overwrite\").parquet(\"data/df_train.parquet\")\n",
    "test_df.write.mode(\"overwrite\").parquet(\"data/df_test.parquet\")"
   ]
  },
  {
   "cell_type": "code",
   "execution_count": null,
   "id": "49",
   "metadata": {},
   "outputs": [],
   "source": [
    "test_df = spark.read.parquet(\"data/df_test.parquet\").toPandas()\n",
    "test_df.to_parquet(\"data/df_test.parquet.gzip\")"
   ]
  },
  {
   "cell_type": "code",
   "execution_count": null,
   "id": "50",
   "metadata": {},
   "outputs": [],
   "source": []
  }
 ],
 "metadata": {
  "kernelspec": {
   "display_name": "Python 3 (ipykernel)",
   "language": "python",
   "name": "python3"
  },
  "language_info": {
   "codemirror_mode": {
    "name": "ipython",
    "version": 3
   },
   "file_extension": ".py",
   "mimetype": "text/x-python",
   "name": "python",
   "nbconvert_exporter": "python",
   "pygments_lexer": "ipython3",
   "version": "3.11.9"
  }
 },
 "nbformat": 4,
 "nbformat_minor": 5
}
