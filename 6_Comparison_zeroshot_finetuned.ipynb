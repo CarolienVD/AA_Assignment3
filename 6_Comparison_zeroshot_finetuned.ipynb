{
 "cells": [
  {
   "cell_type": "code",
   "execution_count": 1,
   "id": "0",
   "metadata": {},
   "outputs": [],
   "source": [
    "from transformers import pipeline, AutoModelForSequenceClassification, AutoTokenizer\n",
    "from datasets import Dataset\n",
    "import pandas as pd\n",
    "import torch\n",
    "from tqdm import tqdm"
   ]
  },
  {
   "cell_type": "code",
   "execution_count": 13,
   "id": "89369a3d-96f7-4001-8bea-862bc63cddfc",
   "metadata": {},
   "outputs": [
    {
     "data": {
      "text/plain": [
       "True"
      ]
     },
     "execution_count": 13,
     "metadata": {},
     "output_type": "execute_result"
    }
   ],
   "source": [
    "torch.cuda.is_available()"
   ]
  },
  {
   "cell_type": "code",
   "execution_count": 2,
   "id": "1",
   "metadata": {},
   "outputs": [],
   "source": [
    "import json"
   ]
  },
  {
   "cell_type": "code",
   "execution_count": 3,
   "id": "2",
   "metadata": {},
   "outputs": [],
   "source": [
    "from pyspark.sql import SparkSession"
   ]
  },
  {
   "cell_type": "code",
   "execution_count": 4,
   "id": "3",
   "metadata": {},
   "outputs": [],
   "source": [
    "spark = SparkSession.builder.getOrCreate()"
   ]
  },
  {
   "cell_type": "code",
   "execution_count": 7,
   "id": "4",
   "metadata": {},
   "outputs": [],
   "source": [
    "# test_df = spark.read.parquet(\"data/df_test.parquet\").toPandas()\n",
    "test_df = spark.read.parquet(\"data/df_test.parquet.gzip\").toPandas()"
   ]
  },
  {
   "cell_type": "code",
   "execution_count": 8,
   "id": "5",
   "metadata": {},
   "outputs": [
    {
     "data": {
      "text/html": [
       "<div>\n",
       "<style scoped>\n",
       "    .dataframe tbody tr th:only-of-type {\n",
       "        vertical-align: middle;\n",
       "    }\n",
       "\n",
       "    .dataframe tbody tr th {\n",
       "        vertical-align: top;\n",
       "    }\n",
       "\n",
       "    .dataframe thead th {\n",
       "        text-align: right;\n",
       "    }\n",
       "</style>\n",
       "<table border=\"1\" class=\"dataframe\">\n",
       "  <thead>\n",
       "    <tr style=\"text-align: right;\">\n",
       "      <th></th>\n",
       "      <th>text</th>\n",
       "      <th>group</th>\n",
       "    </tr>\n",
       "  </thead>\n",
       "  <tbody>\n",
       "    <tr>\n",
       "      <th>0</th>\n",
       "      <td>\"Even explanations will not help in trusting [...</td>\n",
       "      <td>Computer Science</td>\n",
       "    </tr>\n",
       "    <tr>\n",
       "      <th>1</th>\n",
       "      <td>3D Printing of Invariant Manifolds in Dynamica...</td>\n",
       "      <td>Mathematics</td>\n",
       "    </tr>\n",
       "    <tr>\n",
       "      <th>2</th>\n",
       "      <td>A 10.8mW Mixed-Signal Simulated Bifurcation Is...</td>\n",
       "      <td>Electrical Engineering and Systems Science</td>\n",
       "    </tr>\n",
       "    <tr>\n",
       "      <th>3</th>\n",
       "      <td>A Comparative and Measurement-Based Study on R...</td>\n",
       "      <td>Computer Science</td>\n",
       "    </tr>\n",
       "    <tr>\n",
       "      <th>4</th>\n",
       "      <td>A Novel Approach To Implementing Knowledge Dis...</td>\n",
       "      <td>Computer Science</td>\n",
       "    </tr>\n",
       "    <tr>\n",
       "      <th>...</th>\n",
       "      <td>...</td>\n",
       "      <td>...</td>\n",
       "    </tr>\n",
       "    <tr>\n",
       "      <th>2176</th>\n",
       "      <td>Web3DB: Web 3.0 RDBMS for Individual Data Owne...</td>\n",
       "      <td>Computer Science</td>\n",
       "    </tr>\n",
       "    <tr>\n",
       "      <th>2177</th>\n",
       "      <td>When Gaussian Meets Surfel: Ultra-fast High-fi...</td>\n",
       "      <td>Computer Science</td>\n",
       "    </tr>\n",
       "    <tr>\n",
       "      <th>2178</th>\n",
       "      <td>douka: A universal platform of data assimilati...</td>\n",
       "      <td>Physics</td>\n",
       "    </tr>\n",
       "    <tr>\n",
       "      <th>2179</th>\n",
       "      <td>ms-Mamba: Multi-scale Mamba for Time-Series Fo...</td>\n",
       "      <td>Computer Science</td>\n",
       "    </tr>\n",
       "    <tr>\n",
       "      <th>2180</th>\n",
       "      <td>β-decay properties of some astrophysically imp...</td>\n",
       "      <td>Physics</td>\n",
       "    </tr>\n",
       "  </tbody>\n",
       "</table>\n",
       "<p>2181 rows × 2 columns</p>\n",
       "</div>"
      ],
      "text/plain": [
       "                                                   text  \\\n",
       "0     \"Even explanations will not help in trusting [...   \n",
       "1     3D Printing of Invariant Manifolds in Dynamica...   \n",
       "2     A 10.8mW Mixed-Signal Simulated Bifurcation Is...   \n",
       "3     A Comparative and Measurement-Based Study on R...   \n",
       "4     A Novel Approach To Implementing Knowledge Dis...   \n",
       "...                                                 ...   \n",
       "2176  Web3DB: Web 3.0 RDBMS for Individual Data Owne...   \n",
       "2177  When Gaussian Meets Surfel: Ultra-fast High-fi...   \n",
       "2178  douka: A universal platform of data assimilati...   \n",
       "2179  ms-Mamba: Multi-scale Mamba for Time-Series Fo...   \n",
       "2180  β-decay properties of some astrophysically imp...   \n",
       "\n",
       "                                           group  \n",
       "0                               Computer Science  \n",
       "1                                    Mathematics  \n",
       "2     Electrical Engineering and Systems Science  \n",
       "3                               Computer Science  \n",
       "4                               Computer Science  \n",
       "...                                          ...  \n",
       "2176                            Computer Science  \n",
       "2177                            Computer Science  \n",
       "2178                                     Physics  \n",
       "2179                            Computer Science  \n",
       "2180                                     Physics  \n",
       "\n",
       "[2181 rows x 2 columns]"
      ]
     },
     "metadata": {},
     "output_type": "display_data"
    }
   ],
   "source": [
    "display(test_df)"
   ]
  },
  {
   "cell_type": "code",
   "execution_count": 10,
   "id": "6",
   "metadata": {},
   "outputs": [
    {
     "data": {
      "text/plain": [
       "{0: 'Computer Science',\n",
       " 1: 'Physics',\n",
       " 2: 'Mathematics',\n",
       " 3: 'Electrical Engineering and Systems Science',\n",
       " 4: 'Statistics',\n",
       " 5: 'Quantitative Biology',\n",
       " 6: 'Economics',\n",
       " 7: 'Quantitative Finance'}"
      ]
     },
     "execution_count": 10,
     "metadata": {},
     "output_type": "execute_result"
    }
   ],
   "source": [
    "with open(\"models/id2label.json\", \"r\") as f:\n",
    "    id2label = {int(k): v for k, v in json.load(f).items()}\n",
    "\n",
    "id2label"
   ]
  },
  {
   "cell_type": "code",
   "execution_count": 11,
   "id": "7",
   "metadata": {},
   "outputs": [
    {
     "data": {
      "text/plain": [
       "['Computer Science',\n",
       " 'Physics',\n",
       " 'Mathematics',\n",
       " 'Electrical Engineering and Systems Science',\n",
       " 'Statistics',\n",
       " 'Quantitative Biology',\n",
       " 'Economics',\n",
       " 'Quantitative Finance']"
      ]
     },
     "execution_count": 11,
     "metadata": {},
     "output_type": "execute_result"
    }
   ],
   "source": [
    "candidate_labels = [id2label[i] for i in range(len(id2label))]\n",
    "candidate_labels"
   ]
  },
  {
   "cell_type": "code",
   "execution_count": 14,
   "id": "8",
   "metadata": {},
   "outputs": [
    {
     "name": "stderr",
     "output_type": "stream",
     "text": [
      "Device set to use cuda\n"
     ]
    }
   ],
   "source": [
    "zero_shot = pipeline(\"zero-shot-classification\", model=\"facebook/bart-large-mnli\", device=\"cuda\")"
   ]
  },
  {
   "cell_type": "code",
   "execution_count": 15,
   "id": "9",
   "metadata": {},
   "outputs": [
    {
     "name": "stderr",
     "output_type": "stream",
     "text": [
      " 14%|███████████▉                                                                      | 10/69 [01:34<09:25,  9.58s/it]You seem to be using the pipelines sequentially on GPU. In order to maximize efficiency please use a dataset\n",
      "100%|██████████████████████████████████████████████████████████████████████████████████| 69/69 [10:13<00:00,  8.89s/it]\n"
     ]
    }
   ],
   "source": [
    "zero_shot_preds = []\n",
    "batch_size = 32  # Adjust based on memory\n",
    "texts = test_df[\"text\"].tolist()\n",
    "\n",
    "for i in tqdm(range(0, len(texts), batch_size)):\n",
    "    batch = texts[i:i+batch_size]\n",
    "    res_batch = zero_shot(batch, candidate_labels)\n",
    "    \n",
    "    if isinstance(res_batch, dict):  # Happens if batch size = 1\n",
    "        zero_shot_preds.append(res_batch[\"labels\"][0])\n",
    "    else:\n",
    "        zero_shot_preds.extend([res[\"labels\"][0] for res in res_batch])"
   ]
  },
  {
   "cell_type": "code",
   "execution_count": null,
   "id": "10",
   "metadata": {},
   "outputs": [],
   "source": [
    "# help(pipeline)"
   ]
  },
  {
   "cell_type": "code",
   "execution_count": null,
   "id": "fdd78a4c-8da0-402e-bee3-e8a3b9fb5af9",
   "metadata": {},
   "outputs": [],
   "source": [
    "zero_shot_preds"
   ]
  },
  {
   "cell_type": "code",
   "execution_count": 17,
   "id": "bc19591a-43fa-49e1-af30-c3bf0f629152",
   "metadata": {},
   "outputs": [],
   "source": [
    "test_df_w_preds = test_df\n",
    "test_df_w_preds['pred'] = zero_shot_preds"
   ]
  },
  {
   "cell_type": "code",
   "execution_count": 18,
   "id": "e213a842-bc14-4899-942b-be06c6ea1d02",
   "metadata": {},
   "outputs": [
    {
     "data": {
      "text/html": [
       "<div>\n",
       "<style scoped>\n",
       "    .dataframe tbody tr th:only-of-type {\n",
       "        vertical-align: middle;\n",
       "    }\n",
       "\n",
       "    .dataframe tbody tr th {\n",
       "        vertical-align: top;\n",
       "    }\n",
       "\n",
       "    .dataframe thead th {\n",
       "        text-align: right;\n",
       "    }\n",
       "</style>\n",
       "<table border=\"1\" class=\"dataframe\">\n",
       "  <thead>\n",
       "    <tr style=\"text-align: right;\">\n",
       "      <th></th>\n",
       "      <th>text</th>\n",
       "      <th>group</th>\n",
       "      <th>pred</th>\n",
       "    </tr>\n",
       "  </thead>\n",
       "  <tbody>\n",
       "    <tr>\n",
       "      <th>0</th>\n",
       "      <td>\"Even explanations will not help in trusting [...</td>\n",
       "      <td>Computer Science</td>\n",
       "      <td>Electrical Engineering and Systems Science</td>\n",
       "    </tr>\n",
       "    <tr>\n",
       "      <th>1</th>\n",
       "      <td>3D Printing of Invariant Manifolds in Dynamica...</td>\n",
       "      <td>Mathematics</td>\n",
       "      <td>Mathematics</td>\n",
       "    </tr>\n",
       "    <tr>\n",
       "      <th>2</th>\n",
       "      <td>A 10.8mW Mixed-Signal Simulated Bifurcation Is...</td>\n",
       "      <td>Electrical Engineering and Systems Science</td>\n",
       "      <td>Computer Science</td>\n",
       "    </tr>\n",
       "    <tr>\n",
       "      <th>3</th>\n",
       "      <td>A Comparative and Measurement-Based Study on R...</td>\n",
       "      <td>Computer Science</td>\n",
       "      <td>Electrical Engineering and Systems Science</td>\n",
       "    </tr>\n",
       "    <tr>\n",
       "      <th>4</th>\n",
       "      <td>A Novel Approach To Implementing Knowledge Dis...</td>\n",
       "      <td>Computer Science</td>\n",
       "      <td>Computer Science</td>\n",
       "    </tr>\n",
       "    <tr>\n",
       "      <th>...</th>\n",
       "      <td>...</td>\n",
       "      <td>...</td>\n",
       "      <td>...</td>\n",
       "    </tr>\n",
       "    <tr>\n",
       "      <th>2176</th>\n",
       "      <td>Web3DB: Web 3.0 RDBMS for Individual Data Owne...</td>\n",
       "      <td>Computer Science</td>\n",
       "      <td>Computer Science</td>\n",
       "    </tr>\n",
       "    <tr>\n",
       "      <th>2177</th>\n",
       "      <td>When Gaussian Meets Surfel: Ultra-fast High-fi...</td>\n",
       "      <td>Computer Science</td>\n",
       "      <td>Computer Science</td>\n",
       "    </tr>\n",
       "    <tr>\n",
       "      <th>2178</th>\n",
       "      <td>douka: A universal platform of data assimilati...</td>\n",
       "      <td>Physics</td>\n",
       "      <td>Computer Science</td>\n",
       "    </tr>\n",
       "    <tr>\n",
       "      <th>2179</th>\n",
       "      <td>ms-Mamba: Multi-scale Mamba for Time-Series Fo...</td>\n",
       "      <td>Computer Science</td>\n",
       "      <td>Computer Science</td>\n",
       "    </tr>\n",
       "    <tr>\n",
       "      <th>2180</th>\n",
       "      <td>β-decay properties of some astrophysically imp...</td>\n",
       "      <td>Physics</td>\n",
       "      <td>Physics</td>\n",
       "    </tr>\n",
       "  </tbody>\n",
       "</table>\n",
       "<p>2181 rows × 3 columns</p>\n",
       "</div>"
      ],
      "text/plain": [
       "                                                   text  \\\n",
       "0     \"Even explanations will not help in trusting [...   \n",
       "1     3D Printing of Invariant Manifolds in Dynamica...   \n",
       "2     A 10.8mW Mixed-Signal Simulated Bifurcation Is...   \n",
       "3     A Comparative and Measurement-Based Study on R...   \n",
       "4     A Novel Approach To Implementing Knowledge Dis...   \n",
       "...                                                 ...   \n",
       "2176  Web3DB: Web 3.0 RDBMS for Individual Data Owne...   \n",
       "2177  When Gaussian Meets Surfel: Ultra-fast High-fi...   \n",
       "2178  douka: A universal platform of data assimilati...   \n",
       "2179  ms-Mamba: Multi-scale Mamba for Time-Series Fo...   \n",
       "2180  β-decay properties of some astrophysically imp...   \n",
       "\n",
       "                                           group  \\\n",
       "0                               Computer Science   \n",
       "1                                    Mathematics   \n",
       "2     Electrical Engineering and Systems Science   \n",
       "3                               Computer Science   \n",
       "4                               Computer Science   \n",
       "...                                          ...   \n",
       "2176                            Computer Science   \n",
       "2177                            Computer Science   \n",
       "2178                                     Physics   \n",
       "2179                            Computer Science   \n",
       "2180                                     Physics   \n",
       "\n",
       "                                            pred  \n",
       "0     Electrical Engineering and Systems Science  \n",
       "1                                    Mathematics  \n",
       "2                               Computer Science  \n",
       "3     Electrical Engineering and Systems Science  \n",
       "4                               Computer Science  \n",
       "...                                          ...  \n",
       "2176                            Computer Science  \n",
       "2177                            Computer Science  \n",
       "2178                            Computer Science  \n",
       "2179                            Computer Science  \n",
       "2180                                     Physics  \n",
       "\n",
       "[2181 rows x 3 columns]"
      ]
     },
     "metadata": {},
     "output_type": "display_data"
    }
   ],
   "source": [
    "display(test_df_w_preds)"
   ]
  },
  {
   "cell_type": "code",
   "execution_count": 20,
   "id": "2920989f-2519-4ecc-83ea-e2049aefa9ee",
   "metadata": {},
   "outputs": [],
   "source": [
    "test_df_w_preds.to_parquet(\"data/df_test_pred_zeroshot.parquet.gzip\")"
   ]
  },
  {
   "cell_type": "code",
   "execution_count": null,
   "id": "ea720a32-fe73-4ccd-8efd-bf4fec4832af",
   "metadata": {},
   "outputs": [],
   "source": []
  }
 ],
 "metadata": {
  "kernelspec": {
   "display_name": "Python 3 (ipykernel)",
   "language": "python",
   "name": "python3"
  },
  "language_info": {
   "codemirror_mode": {
    "name": "ipython",
    "version": 3
   },
   "file_extension": ".py",
   "mimetype": "text/x-python",
   "name": "python",
   "nbconvert_exporter": "python",
   "pygments_lexer": "ipython3",
   "version": "3.12.10"
  }
 },
 "nbformat": 4,
 "nbformat_minor": 5
}
