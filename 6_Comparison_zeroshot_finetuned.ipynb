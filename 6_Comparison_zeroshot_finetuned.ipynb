{
 "cells": [
  {
   "cell_type": "code",
   "execution_count": null,
   "id": "0",
   "metadata": {},
   "outputs": [],
   "source": [
    "from transformers import pipeline, AutoModelForSequenceClassification, AutoTokenizer\n",
    "from datasets import Dataset\n",
    "import pandas as pd\n",
    "import torch\n",
    "from tqdm import tqdm"
   ]
  },
  {
   "cell_type": "code",
   "execution_count": null,
   "id": "1",
   "metadata": {},
   "outputs": [],
   "source": [
    "import json"
   ]
  },
  {
   "cell_type": "code",
   "execution_count": null,
   "id": "2",
   "metadata": {},
   "outputs": [],
   "source": [
    "from sklearn.metrics import classification_report"
   ]
  },
  {
   "cell_type": "markdown",
   "id": "3",
   "metadata": {},
   "source": [
    "# 01 Predict on test data with zero shot model\n",
    "\n",
    "facebook/bart-large-mnli"
   ]
  },
  {
   "cell_type": "markdown",
   "id": "4",
   "metadata": {},
   "source": [
    "## 8 categories"
   ]
  },
  {
   "cell_type": "code",
   "execution_count": null,
   "id": "5",
   "metadata": {},
   "outputs": [],
   "source": [
    "torch.cuda.is_available()"
   ]
  },
  {
   "cell_type": "code",
   "execution_count": null,
   "id": "6",
   "metadata": {},
   "outputs": [],
   "source": [
    "# test_df = spark.read.parquet(\"data/df_test.parquet\").toPandas()\n",
    "test_df = pd.read_parquet(\"data/df_test.parquet.gzip\")"
   ]
  },
  {
   "cell_type": "code",
   "execution_count": null,
   "id": "7",
   "metadata": {},
   "outputs": [],
   "source": [
    "display(test_df)"
   ]
  },
  {
   "cell_type": "code",
   "execution_count": null,
   "id": "8",
   "metadata": {},
   "outputs": [],
   "source": [
    "with open(\"models/finetuned_scibert_scivocab_uncased_8cats/id2label.json\", \"r\") as f:\n",
    "    id2label = {int(k): v for k, v in json.load(f).items()}\n",
    "\n",
    "id2label"
   ]
  },
  {
   "cell_type": "code",
   "execution_count": null,
   "id": "9",
   "metadata": {},
   "outputs": [],
   "source": [
    "candidate_labels = [id2label[i] for i in range(len(id2label))]\n",
    "candidate_labels"
   ]
  },
  {
   "cell_type": "code",
   "execution_count": null,
   "id": "10",
   "metadata": {},
   "outputs": [],
   "source": [
    "zero_shot = pipeline(\"zero-shot-classification\", model=\"facebook/bart-large-mnli\", device=\"cuda\")"
   ]
  },
  {
   "cell_type": "code",
   "execution_count": null,
   "id": "11",
   "metadata": {},
   "outputs": [],
   "source": [
    "zero_shot_preds = []\n",
    "batch_size = 32  # Adjust based on memory\n",
    "texts = test_df[\"text\"].tolist()\n",
    "\n",
    "for i in tqdm(range(0, len(texts), batch_size)):\n",
    "    batch = texts[i:i+batch_size]\n",
    "    res_batch = zero_shot(batch, candidate_labels)\n",
    "    \n",
    "    if isinstance(res_batch, dict):  # Happens if batch size = 1\n",
    "        zero_shot_preds.append(res_batch[\"labels\"][0])\n",
    "    else:\n",
    "        zero_shot_preds.extend([res[\"labels\"][0] for res in res_batch])"
   ]
  },
  {
   "cell_type": "code",
   "execution_count": null,
   "id": "12",
   "metadata": {},
   "outputs": [],
   "source": [
    "# help(pipeline)"
   ]
  },
  {
   "cell_type": "code",
   "execution_count": null,
   "id": "13",
   "metadata": {},
   "outputs": [],
   "source": [
    "test_df_w_preds = test_df\n",
    "test_df_w_preds['pred'] = zero_shot_preds"
   ]
  },
  {
   "cell_type": "code",
   "execution_count": null,
   "id": "14",
   "metadata": {},
   "outputs": [],
   "source": [
    "display(test_df_w_preds)"
   ]
  },
  {
   "cell_type": "code",
   "execution_count": null,
   "id": "15",
   "metadata": {},
   "outputs": [],
   "source": [
    "test_df_w_preds.to_parquet(\"data/df_test_pred_zeroshot_8cats.parquet.gzip\")"
   ]
  },
  {
   "cell_type": "markdown",
   "id": "16",
   "metadata": {},
   "source": [
    "## 17 categories"
   ]
  },
  {
   "cell_type": "code",
   "execution_count": null,
   "id": "17",
   "metadata": {},
   "outputs": [],
   "source": [
    "test_df = pd.read_parquet(\"data/df_test_17cats.parquet.gzip\")"
   ]
  },
  {
   "cell_type": "code",
   "execution_count": null,
   "id": "18",
   "metadata": {},
   "outputs": [],
   "source": [
    "with open(\"models/finetuned_scibert_scivocab_uncased_weighted_17cats/id2label.json\", \"r\") as f:\n",
    "    id2label = {int(k): v for k, v in json.load(f).items()}\n",
    "\n",
    "id2label"
   ]
  },
  {
   "cell_type": "code",
   "execution_count": null,
   "id": "19",
   "metadata": {},
   "outputs": [],
   "source": [
    "candidate_labels = [id2label[i] for i in range(len(id2label))]\n",
    "candidate_labels"
   ]
  },
  {
   "cell_type": "code",
   "execution_count": null,
   "id": "20",
   "metadata": {},
   "outputs": [],
   "source": [
    "zero_shot = pipeline(\"zero-shot-classification\", model=\"facebook/bart-large-mnli\", device=\"cuda\")"
   ]
  },
  {
   "cell_type": "code",
   "execution_count": null,
   "id": "21",
   "metadata": {},
   "outputs": [],
   "source": [
    "zero_shot_preds = []\n",
    "batch_size = 32  # Adjust based on memory\n",
    "texts = test_df[\"text\"].tolist()\n",
    "\n",
    "for i in tqdm(range(0, len(texts), batch_size)):\n",
    "    batch = texts[i:i+batch_size]\n",
    "    res_batch = zero_shot(batch, candidate_labels)\n",
    "    \n",
    "    if isinstance(res_batch, dict):  # Happens if batch size = 1\n",
    "        zero_shot_preds.append(res_batch[\"labels\"][0])\n",
    "    else:\n",
    "        zero_shot_preds.extend([res[\"labels\"][0] for res in res_batch])"
   ]
  },
  {
   "cell_type": "code",
   "execution_count": null,
   "id": "22",
   "metadata": {},
   "outputs": [],
   "source": [
    "test_df_w_preds = test_df\n",
    "test_df_w_preds['pred'] = zero_shot_preds"
   ]
  },
  {
   "cell_type": "code",
   "execution_count": null,
   "id": "23",
   "metadata": {},
   "outputs": [],
   "source": [
    "display(test_df_w_preds)"
   ]
  },
  {
   "cell_type": "code",
   "execution_count": null,
   "id": "24",
   "metadata": {},
   "outputs": [],
   "source": [
    "test_df_w_preds.to_parquet(\"data/df_test_pred_zeroshot_17cats.parquet.gzip\")"
   ]
  },
  {
   "cell_type": "markdown",
   "id": "25",
   "metadata": {},
   "source": [
    "# 02 Evaluate predictions"
   ]
  },
  {
   "cell_type": "markdown",
   "id": "26",
   "metadata": {},
   "source": [
    "## 8 categories"
   ]
  },
  {
   "cell_type": "markdown",
   "id": "27",
   "metadata": {},
   "source": [
    "### Zero-shot"
   ]
  },
  {
   "cell_type": "code",
   "execution_count": null,
   "id": "28",
   "metadata": {},
   "outputs": [],
   "source": [
    "test_df_w_preds_zeroshot = pd.read_parquet(\"data/df_test_pred_zeroshot_8cats.parquet.gzip\")\n",
    "display(test_df_w_preds_zeroshot)"
   ]
  },
  {
   "cell_type": "code",
   "execution_count": null,
   "id": "29",
   "metadata": {},
   "outputs": [],
   "source": [
    "actual = test_df_w_preds_zeroshot.group\n",
    "predicted_zeroshot = test_df_w_preds_zeroshot.pred"
   ]
  },
  {
   "cell_type": "code",
   "execution_count": null,
   "id": "30",
   "metadata": {},
   "outputs": [],
   "source": [
    "report_zeroshot_dict = classification_report(actual, predicted_zeroshot, output_dict=True)\n",
    "\n",
    "report_zeroshot_df = pd.DataFrame(report_zeroshot_dict).transpose()\n",
    "report_zeroshot_df"
   ]
  },
  {
   "cell_type": "markdown",
   "id": "31",
   "metadata": {},
   "source": [
    "### Finetuned unweighted"
   ]
  },
  {
   "cell_type": "code",
   "execution_count": null,
   "id": "32",
   "metadata": {},
   "outputs": [],
   "source": [
    "test_df_w_preds_finetuned = pd.read_parquet(\"data/df_test_pred_finetuned_8cats.parquet.gzip\")\n",
    "display(test_df_w_preds_finetuned)"
   ]
  },
  {
   "cell_type": "code",
   "execution_count": null,
   "id": "33",
   "metadata": {},
   "outputs": [],
   "source": [
    "actual = test_df_w_preds_finetuned.group\n",
    "predicted_finetuned = test_df_w_preds_finetuned.pred"
   ]
  },
  {
   "cell_type": "code",
   "execution_count": null,
   "id": "34",
   "metadata": {},
   "outputs": [],
   "source": [
    "report_finetuned_dict = classification_report(actual, predicted_finetuned, output_dict=True)\n",
    "\n",
    "report_finetuned_df = pd.DataFrame(report_finetuned_dict).transpose()\n",
    "report_finetuned_df"
   ]
  },
  {
   "cell_type": "markdown",
   "id": "35",
   "metadata": {},
   "source": [
    "### Finetuned weighted"
   ]
  },
  {
   "cell_type": "code",
   "execution_count": null,
   "id": "36",
   "metadata": {},
   "outputs": [],
   "source": [
    "test_df_w_preds_finetuned_w = pd.read_parquet(\"data/df_test_pred_finetuned_weighted_8cats.parquet.gzip\")\n",
    "display(test_df_w_preds_finetuned_w)\n",
    "\n",
    "actual = test_df_w_preds_finetuned_w.group\n",
    "predicted_finetuned = test_df_w_preds_finetuned_w.pred"
   ]
  },
  {
   "cell_type": "code",
   "execution_count": null,
   "id": "37",
   "metadata": {},
   "outputs": [],
   "source": [
    "report_finetuned_w_dict = classification_report(actual, predicted_finetuned, output_dict=True)\n",
    "\n",
    "report_finetuned_w_df = pd.DataFrame(report_finetuned_w_dict).transpose()\n",
    "report_finetuned_w_df"
   ]
  },
  {
   "cell_type": "markdown",
   "id": "38",
   "metadata": {},
   "source": [
    "## 17 categories"
   ]
  },
  {
   "cell_type": "markdown",
   "id": "39",
   "metadata": {},
   "source": [
    "### Zero-shot"
   ]
  },
  {
   "cell_type": "code",
   "execution_count": null,
   "id": "40",
   "metadata": {},
   "outputs": [],
   "source": [
    "test_df_w_preds_zeroshot_17cats = pd.read_parquet(\"data/df_test_pred_zeroshot_17cats.parquet.gzip\")\n",
    "display(test_df_w_preds_zeroshot_17cats)"
   ]
  },
  {
   "cell_type": "code",
   "execution_count": null,
   "id": "41",
   "metadata": {},
   "outputs": [],
   "source": [
    "actual = test_df_w_preds_zeroshot_17cats.subgroup\n",
    "predicted_zeroshot = test_df_w_preds_zeroshot_17cats.pred"
   ]
  },
  {
   "cell_type": "code",
   "execution_count": null,
   "id": "42",
   "metadata": {},
   "outputs": [],
   "source": [
    "report_zeroshot_17cats_dict = classification_report(actual, predicted_zeroshot, output_dict=True)\n",
    "\n",
    "report_zeroshot_17cats_df = pd.DataFrame(report_zeroshot_17cats_dict).transpose()\n",
    "report_zeroshot_17cats_df"
   ]
  },
  {
   "cell_type": "markdown",
   "id": "43",
   "metadata": {},
   "source": [
    "### Finetuned weighted"
   ]
  },
  {
   "cell_type": "code",
   "execution_count": null,
   "id": "44",
   "metadata": {},
   "outputs": [],
   "source": [
    "test_df_w_preds_finetuned_w_17cats = pd.read_parquet(\"data/df_test_pred_finetuned_weighted_17cats.parquet.gzip\")\n",
    "display(test_df_w_preds_finetuned_w_17cats)\n",
    "\n",
    "actual = test_df_w_preds_finetuned_w_17cats.subgroup\n",
    "predicted_finetuned = test_df_w_preds_finetuned_w_17cats.pred"
   ]
  },
  {
   "cell_type": "code",
   "execution_count": null,
   "id": "45",
   "metadata": {},
   "outputs": [],
   "source": [
    "report_finetuned_w_17cats_dict = classification_report(actual, predicted_finetuned, output_dict=True)\n",
    "\n",
    "report_finetuned_w_17cats_df = pd.DataFrame(report_finetuned_w_17cats_dict).transpose()\n",
    "report_finetuned_w_17cats_df"
   ]
  },
  {
   "cell_type": "code",
   "execution_count": null,
   "id": "46",
   "metadata": {},
   "outputs": [],
   "source": []
  }
 ],
 "metadata": {
  "kernelspec": {
   "display_name": "Python 3 (ipykernel)",
   "language": "python",
   "name": "python3"
  },
  "language_info": {
   "codemirror_mode": {
    "name": "ipython",
    "version": 3
   },
   "file_extension": ".py",
   "mimetype": "text/x-python",
   "name": "python",
   "nbconvert_exporter": "python",
   "pygments_lexer": "ipython3",
   "version": "3.12.10"
  }
 },
 "nbformat": 4,
 "nbformat_minor": 5
}
